{
 "cells": [
  {
   "cell_type": "code",
   "execution_count": 1,
   "metadata": {
    "_cell_guid": "79c7e3d0-c299-4dcb-8224-4455121ee9b0",
    "_uuid": "d629ff2d2480ee46fbb7e2d37f6b5fab8052498a"
   },
   "outputs": [],
   "source": [
    "import matplotlib as mpl\n",
    "import matplotlib.pyplot as plt\n",
    "%matplotlib inline\n",
    "import numpy as np\n",
    "import tensorflow as tf\n",
    "from tensorflow import keras"
   ]
  },
  {
   "cell_type": "code",
   "execution_count": 2,
   "metadata": {},
   "outputs": [],
   "source": [
    "def BuildModel(layer_number, dropout, optimization):\n",
    "    model = keras.models.Sequential()\n",
    "    model.add(keras.layers.Conv2D(filters=128, \n",
    "                                  kernel_size=3, \n",
    "                                  padding='same', \n",
    "                                  activation='relu',\n",
    "                                  input_shape=[width, height, channels]))\n",
    "    model.add(keras.layers.BatchNormalization())\n",
    "    model.add(keras.layers.MaxPool2D(pool_size=2))"
   ]
  },
  {
   "cell_type": "code",
   "execution_count": 3,
   "metadata": {},
   "outputs": [],
   "source": [
    "cifar10 = keras.datasets.cifar10.load_data()\n",
    "(x_train_all, y_train_all), (x_test, y_test) = cifar10\n",
    "X_Train, X_Validation = x_train_all[5000:], x_train_all[:5000]\n",
    "Y_Train, Y_Validation = y_train_all[5000:], y_train_all[:5000]"
   ]
  },
  {
   "cell_type": "code",
   "execution_count": 4,
   "metadata": {},
   "outputs": [],
   "source": [
    "height = 32\n",
    "width = 32\n",
    "channels = 3\n",
    "batch_size = 32\n",
    "num_classes = 10\n",
    "\n",
    "train_datagen = keras.preprocessing.image.ImageDataGenerator(\n",
    "    rescale = 1./255,\n",
    "    rotation_range = 40,\n",
    "    width_shift_range = 0.2,\n",
    "    height_shift_range = 0.2,\n",
    "    shear_range = 0.2,\n",
    "    zoom_range = 0.2,\n",
    "    horizontal_flip = True,\n",
    "    fill_mode = 'nearest',#when choosing pixels to fill our picture, we will use the nearest pixels to fill.\n",
    ")\n",
    "validation_datagen = keras.preprocessing.image.ImageDataGenerator(rescale=1./255)"
   ]
  },
  {
   "cell_type": "code",
   "execution_count": 5,
   "metadata": {},
   "outputs": [],
   "source": [
    "train_generator = train_datagen.flow(X_Train, Y_Train, shuffle=True,seed=7)\n",
    "validation_generator = validation_datagen.flow(X_Validation, Y_Validation, shuffle=False, seed=7)\n",
    "train_number = len(train_generator)\n",
    "validation_number = len(validation_generator)"
   ]
  },
  {
   "cell_type": "markdown",
   "metadata": {},
   "source": []
  },
  {
   "cell_type": "code",
   "execution_count": 13,
   "metadata": {},
   "outputs": [
    {
     "name": "stdout",
     "output_type": "stream",
     "text": [
      "Model: \"sequential_3\"\n",
      "_________________________________________________________________\n",
      "Layer (type)                 Output Shape              Param #   \n",
      "=================================================================\n",
      "conv2d_15 (Conv2D)           (None, 32, 32, 32)        896       \n",
      "_________________________________________________________________\n",
      "batch_normalization_15 (Batc (None, 32, 32, 32)        128       \n",
      "_________________________________________________________________\n",
      "max_pooling2d_9 (MaxPooling2 (None, 16, 16, 32)        0         \n",
      "_________________________________________________________________\n",
      "conv2d_16 (Conv2D)           (None, 16, 16, 64)        18496     \n",
      "_________________________________________________________________\n",
      "batch_normalization_16 (Batc (None, 16, 16, 64)        256       \n",
      "_________________________________________________________________\n",
      "max_pooling2d_10 (MaxPooling (None, 8, 8, 64)          0         \n",
      "_________________________________________________________________\n",
      "conv2d_17 (Conv2D)           (None, 8, 8, 128)         73856     \n",
      "_________________________________________________________________\n",
      "batch_normalization_17 (Batc (None, 8, 8, 128)         512       \n",
      "_________________________________________________________________\n",
      "max_pooling2d_11 (MaxPooling (None, 4, 4, 128)         0         \n",
      "_________________________________________________________________\n",
      "flatten_3 (Flatten)          (None, 2048)              0         \n",
      "_________________________________________________________________\n",
      "dense_6 (Dense)              (None, 512)               1049088   \n",
      "_________________________________________________________________\n",
      "dense_7 (Dense)              (None, 10)                5130      \n",
      "=================================================================\n",
      "Total params: 1,148,362\n",
      "Trainable params: 1,147,914\n",
      "Non-trainable params: 448\n",
      "_________________________________________________________________\n"
     ]
    }
   ],
   "source": [
    "model = keras.models.Sequential([\n",
    "    keras.layers.Conv2D(filters=32, \n",
    "                        kernel_size=3, \n",
    "                        padding='same', \n",
    "                        activation='relu',\n",
    "                        input_shape=[width, height, channels]),\n",
    "    keras.layers.BatchNormalization(),\n",
    "    keras.layers.MaxPool2D(pool_size=2),\n",
    "    keras.layers.Conv2D(filters=64, \n",
    "                        kernel_size=3, \n",
    "                        padding='same', \n",
    "                        activation='relu'),\n",
    "    keras.layers.BatchNormalization(),\n",
    "    keras.layers.MaxPool2D(pool_size=2),\n",
    "    keras.layers.Conv2D(filters=128, \n",
    "                        kernel_size=3, \n",
    "                        padding='same', \n",
    "                        activation='relu'),\n",
    "    keras.layers.BatchNormalization(),\n",
    "    keras.layers.MaxPool2D(pool_size=2),\n",
    "    keras.layers.Flatten(),\n",
    "#     keras.layers.Dropout(0.2),\n",
    "    keras.layers.Dense(512, activation=\"relu\"),\n",
    "    keras.layers.Dense(num_classes, activation='softmax'), \n",
    "])\n",
    "\n",
    "model.compile(loss='sparse_categorical_crossentropy', optimizer='adam', metrics=['accuracy'])\n",
    "model.summary()"
   ]
  },
  {
   "cell_type": "code",
   "execution_count": null,
   "metadata": {},
   "outputs": [
    {
     "name": "stdout",
     "output_type": "stream",
     "text": [
      "Epoch 1/20\n",
      "43/43 [==============================] - 2s 41ms/step - loss: 2.7574 - accuracy: 0.0938 - val_loss: 2.9753 - val_accuracy: 0.0000e+00\n",
      "Epoch 2/20\n",
      "43/43 [==============================] - 2s 38ms/step - loss: 2.0077 - accuracy: 0.1228 - val_loss: 6.4673 - val_accuracy: 0.0000e+00\n",
      "Epoch 3/20\n",
      "43/43 [==============================] - 2s 38ms/step - loss: 1.9005 - accuracy: 0.1163 - val_loss: 6.0943 - val_accuracy: 0.0000e+00\n",
      "Epoch 4/20\n",
      "43/43 [==============================] - 2s 38ms/step - loss: 1.7897 - accuracy: 0.0894 - val_loss: 7.5935 - val_accuracy: 0.0000e+00\n",
      "Epoch 5/20\n",
      "43/43 [==============================] - 2s 41ms/step - loss: 1.8365 - accuracy: 0.0705 - val_loss: 6.8223 - val_accuracy: 0.0938\n",
      "Epoch 6/20\n",
      "43/43 [==============================] - 2s 42ms/step - loss: 1.8135 - accuracy: 0.1294 - val_loss: 5.9501 - val_accuracy: 0.0234\n",
      "Epoch 7/20\n",
      "43/43 [==============================] - 2s 43ms/step - loss: 1.7613 - accuracy: 0.1156 - val_loss: 7.8161 - val_accuracy: 0.0625\n",
      "Epoch 8/20\n",
      "43/43 [==============================] - 2s 45ms/step - loss: 1.7410 - accuracy: 0.1003 - val_loss: 3.3895 - val_accuracy: 0.3828\n",
      "Epoch 9/20\n",
      "43/43 [==============================] - 2s 44ms/step - loss: 1.6845 - accuracy: 0.0981 - val_loss: 2.2402 - val_accuracy: 0.2109\n",
      "Epoch 10/20\n",
      "43/43 [==============================] - 2s 43ms/step - loss: 1.7239 - accuracy: 0.1235 - val_loss: 1.5932 - val_accuracy: 0.0781\n",
      "Epoch 11/20\n",
      "43/43 [==============================] - 2s 43ms/step - loss: 1.6311 - accuracy: 0.0967 - val_loss: 1.6414 - val_accuracy: 0.1172\n",
      "Epoch 12/20\n",
      "43/43 [==============================] - 2s 42ms/step - loss: 1.6636 - accuracy: 0.1054 - val_loss: 1.4508 - val_accuracy: 0.1172\n",
      "Epoch 13/20\n",
      "43/43 [==============================] - 2s 43ms/step - loss: 1.6464 - accuracy: 0.1112 - val_loss: 1.4068 - val_accuracy: 0.1016\n",
      "Epoch 14/20\n",
      "43/43 [==============================] - 2s 44ms/step - loss: 1.6100 - accuracy: 0.0850 - val_loss: 1.6398 - val_accuracy: 0.1719\n",
      "Epoch 15/20\n",
      "43/43 [==============================] - 2s 44ms/step - loss: 1.6388 - accuracy: 0.0952 - val_loss: 1.6502 - val_accuracy: 0.0625\n",
      "Epoch 16/20\n",
      "43/43 [==============================] - 2s 44ms/step - loss: 1.6150 - accuracy: 0.1352 - val_loss: 1.5221 - val_accuracy: 0.0156\n",
      "Epoch 17/20\n",
      "43/43 [==============================] - 2s 44ms/step - loss: 1.5728 - accuracy: 0.0727 - val_loss: 1.5634 - val_accuracy: 0.0469\n",
      "Epoch 18/20\n",
      "43/43 [==============================] - 2s 44ms/step - loss: 1.5409 - accuracy: 0.0952 - val_loss: 1.3436 - val_accuracy: 0.0391\n",
      "Epoch 19/20\n",
      "43/43 [==============================] - 2s 45ms/step - loss: 1.6020 - accuracy: 0.0974 - val_loss: 1.6626 - val_accuracy: 0.0312\n",
      "Epoch 20/20\n",
      "21/43 [=============>................] - ETA: 0s - loss: 1.6139 - accuracy: 0.1190"
     ]
    }
   ],
   "source": [
    "epochs = 20\n",
    "history = model.fit(train_generator,\n",
    "                    steps_per_epoch = train_number // batch_size,\n",
    "                    epochs = epochs,\n",
    "                    validation_data = validation_generator,\n",
    "                    validation_steps = validation_number // batch_size)"
   ]
  },
  {
   "cell_type": "code",
   "execution_count": null,
   "metadata": {},
   "outputs": [],
   "source": []
  },
  {
   "cell_type": "code",
   "execution_count": null,
   "metadata": {},
   "outputs": [],
   "source": []
  },
  {
   "cell_type": "code",
   "execution_count": null,
   "metadata": {},
   "outputs": [],
   "source": [
    "def plots_learning_curves(history, label, epochs, min_value, max_value):\n",
    "    data = {}\n",
    "    data[label] = history.history[label]\n",
    "    data['val_'+label] = history.history['val_'+label]\n",
    "    pd.DataFrame(data).plot(figsize=(8, 5))\n",
    "    plt.grid(True)\n",
    "    plt.axis([0, epochs, min_value, max_value])\n",
    "    plt.show()\n",
    "plots_learning_curves(history, 'accuracy', epochs, 0, 1)\n",
    "plots_learning_curves(history, 'loss', epochs, 0, 2.5)"
   ]
  },
  {
   "cell_type": "code",
   "execution_count": null,
   "metadata": {},
   "outputs": [],
   "source": [
    "test_datagen = keras.preprocessing.image.ImageDataGenerator(rescale = 1./255)\n",
    "test_generator = test_datagen.flow_from_dataframe(test_df,\n",
    "                                                    directory='./',\n",
    "                                                    x_col='filepath',\n",
    "                                                    y_col='class',\n",
    "                                                    classes=class_names,\n",
    "                                                    target_size = (height, width), \n",
    "                                                    batch_size=batch_size,\n",
    "                                                    seed = 7,\n",
    "                                                    shuffle = False,\n",
    "                                                    class_mode='sparse')\n",
    "\n",
    "test_num = test_generator.samples\n",
    "print(test_num)"
   ]
  },
  {
   "cell_type": "code",
   "execution_count": null,
   "metadata": {},
   "outputs": [],
   "source": [
    "test_predict = model.predict_generator(test_generator,\n",
    "                                       workers = 10,\n",
    "                                       use_multiprocessing = True)"
   ]
  }
 ],
 "metadata": {
  "kernelspec": {
   "display_name": "Python 3",
   "language": "python",
   "name": "python3"
  },
  "language_info": {
   "codemirror_mode": {
    "name": "ipython",
    "version": 3
   },
   "file_extension": ".py",
   "mimetype": "text/x-python",
   "name": "python",
   "nbconvert_exporter": "python",
   "pygments_lexer": "ipython3",
   "version": "3.8.3"
  }
 },
 "nbformat": 4,
 "nbformat_minor": 4
}
