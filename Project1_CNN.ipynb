{
 "cells": [
  {
   "cell_type": "code",
   "execution_count": 2,
   "metadata": {
    "_cell_guid": "79c7e3d0-c299-4dcb-8224-4455121ee9b0",
    "_uuid": "d629ff2d2480ee46fbb7e2d37f6b5fab8052498a"
   },
   "outputs": [],
   "source": [
    "import matplotlib as mpl\n",
    "import matplotlib.pyplot as plt\n",
    "from sklearn.model_selection import train_test_split\n",
    "%matplotlib inline\n",
    "import numpy as np\n",
    "import tensorflow as tf\n",
    "from tensorflow import keras"
   ]
  },
  {
   "cell_type": "markdown",
   "metadata": {},
   "source": [
    "# Set Variables"
   ]
  },
  {
   "cell_type": "code",
   "execution_count": 4,
   "metadata": {},
   "outputs": [],
   "source": [
    "height = 32\n",
    "width = 32\n",
    "channels = 3\n",
    "batch_size = 32\n",
    "epochs = 20\n",
    "num_classes = 10"
   ]
  },
  {
   "cell_type": "markdown",
   "metadata": {},
   "source": [
    "# Function"
   ]
  },
  {
   "cell_type": "code",
   "execution_count": 5,
   "metadata": {},
   "outputs": [],
   "source": [
    "def PreprocessData(X_Train, Y_Train, X_Test, Y_Test, nums_class):\n",
    "    #Normalize picture\n",
    "    X_Train = X_Train.astype('float32')/255.\n",
    "    X_Test = X_Test.astype('float32')/255.\n",
    "    #split training data into training and validation set\n",
    "    X_train, X_valid, Y_train, Y_valid = train_test_split(X_Train, Y_Train, test_size=0.2, random_state=7, shuffle= True)\n",
    "    Y_train = keras.utils.to_categorical(Y_train)\n",
    "    Y_valid = keras.utils.to_categorical(Y_valid)\n",
    "    Y_Test = keras.utils.to_categorical(Y_Test)\n",
    "    return ((X_train, Y_train), (X_valid, Y_valid), (X_Test, Y_Test))"
   ]
  },
  {
   "cell_type": "code",
   "execution_count": 6,
   "metadata": {},
   "outputs": [],
   "source": [
    "def Aug_Data(X_train, Y_train, X_valid, Y_valid, batch_size):\n",
    "    train_datagen = keras.preprocessing.image.ImageDataGenerator(\n",
    "    shear_range = 0.2,\n",
    "    zoom_range = 0.2,\n",
    "    horizontal_flip = True,\n",
    "    )\n",
    "    validation_datagen = keras.preprocessing.image.ImageDataGenerator()\n",
    "    train_generator = train_datagen.flow(X_train, Y_train, batch_size=batch_size)\n",
    "    valid_generator = validation_datagen.flow(X_valid, Y_valid, batch_size=batch_size)\n",
    "    return train_generator, valid_generator"
   ]
  },
  {
   "cell_type": "code",
   "execution_count": 7,
   "metadata": {},
   "outputs": [],
   "source": [
    "def BuildModel(filter_number, layer_number, dropout, optimization):\n",
    "    model = keras.models.Sequential()\n",
    "    model.add(keras.layers.Conv2D(filters=filter_number, \n",
    "                                  kernel_size=(3,3), \n",
    "                                  padding='same', \n",
    "                                  activation='relu',\n",
    "                                  input_shape=[width, height, channels]))\n",
    "    model.add(keras.layers.BatchNormalization())\n",
    "    model.add(keras.layers.Dropout(dropout)),\n",
    "    model.add(keras.layers.MaxPool2D(pool_size=2))\n",
    "    for i in range(layer_number):\n",
    "        model.add(keras.layers.Conv2D(filters=filter_number*(2**(i+1)), \n",
    "                                  kernel_size=(3,3), \n",
    "                                  padding='same', \n",
    "                                  activation='relu',\n",
    "                                  input_shape=[width, height, channels]))\n",
    "        model.add(keras.layers.BatchNormalization())\n",
    "        keras.layers.Dropout(dropout)\n",
    "        model.add(keras.layers.MaxPool2D(pool_size=2))\n",
    "    model.add(keras.layers.Flatten())\n",
    "    model.add(keras.layers.Dropout(dropout))\n",
    "    model.add(keras.layers.Dense(256))\n",
    "    model.add(keras.layers.ReLU())\n",
    "    model.add(keras.layers.Dense(num_classes, activation='softmax'))\n",
    "    model.compile(loss='categorical_crossentropy', optimizer=optimization, metrics=['acc'])\n",
    "    return model"
   ]
  },
  {
   "cell_type": "markdown",
   "metadata": {},
   "source": [
    "# Preprocess Data"
   ]
  },
  {
   "cell_type": "code",
   "execution_count": 8,
   "metadata": {},
   "outputs": [
    {
     "name": "stdout",
     "output_type": "stream",
     "text": [
      "(40000, 32, 32, 3)\n"
     ]
    }
   ],
   "source": [
    "cifar10 = keras.datasets.cifar10.load_data()\n",
    "(x_train_all, y_train_all), (x_test, y_test) = cifar10\n",
    "(X_train, Y_train), (X_valid, Y_valid), (X_test, Y_test) = PreprocessData(x_train_all, y_train_all, x_test, y_test, num_classes)\n",
    "train_generator, valid_generator = Aug_Data(X_train, Y_train, X_valid, Y_valid, batch_size)\n",
    "print(X_train.shape)"
   ]
  },
  {
   "cell_type": "code",
   "execution_count": null,
   "metadata": {},
   "outputs": [],
   "source": [
    "# model = keras.models.Sequential()\n",
    "# model.add(keras.layers.Conv2D(64,(3,3),input_shape=[width, height, channels], padding=\"same\"))\n",
    "# model.add(keras.layers.Activation('relu'))\n",
    "# model.add(keras.layers.BatchNormalization())    \n",
    "# model.add(keras.layers.MaxPool2D(pool_size=(2,2)))    \n",
    "\n",
    "# model.add(keras.layers.Conv2D(128,(3,3),input_shape=[width, height, channels], padding=\"same\"))\n",
    "# model.add(keras.layers.Activation('relu'))\n",
    "# model.add(keras.layers.BatchNormalization())   \n",
    "# model.add(keras.layers.MaxPool2D(pool_size=(2,2)))\n",
    "\n",
    "# model.add(keras.layers.Flatten())\n",
    "# model.add(keras.layers.Dense(256))\n",
    "# model.add(keras.layers.Activation('relu'))\n",
    "# model.add(keras.layers.Dropout(0.5))\n",
    "\n",
    "# model.add(keras.layers.Dense(num_classes))\n",
    "# model.add(keras.layers.Activation('softmax'))\n",
    "\n",
    "# model.compile(loss='categorical_crossentropy', optimizer='adam', metrics=['acc'])\n",
    "# model.summary()"
   ]
  },
  {
   "cell_type": "code",
   "execution_count": null,
   "metadata": {},
   "outputs": [],
   "source": [
    "# model = keras.models.Sequential([\n",
    "#     keras.layers.Conv2D(filters=32, \n",
    "#                         kernel_size=3, \n",
    "#                         padding='same', \n",
    "#                         input_shape=[width, height, channels]),\n",
    "#     keras.layers.LeakyReLU(),\n",
    "#     keras.layers.Conv2D(filters=32, \n",
    "#                         kernel_size=3, \n",
    "#                         padding='same'),\n",
    "#     keras.layers.LeakyReLU(),\n",
    "#     keras.layers.Dropout(0.25),\n",
    "#     keras.layers.MaxPool2D(pool_size=(2,2)),\n",
    "#     keras.layers.Conv2D(filters=64, \n",
    "#                         kernel_size=3, \n",
    "#                         padding='same'),\n",
    "#     keras.layers.LeakyReLU(),\n",
    "#     keras.layers.Conv2D(filters=64, \n",
    "#                         kernel_size=3, \n",
    "#                         padding='same'),\n",
    "#     keras.layers.LeakyReLU(),\n",
    "#     keras.layers.Dropout(0.25),\n",
    "#     keras.layers.MaxPool2D(pool_size=(2,2)),\n",
    "#     keras.layers.Conv2D(filters=128, \n",
    "#                         kernel_size=3, \n",
    "#                         padding='same'),\n",
    "#     keras.layers.LeakyReLU(),\n",
    "#     keras.layers.Conv2D(filters=128, \n",
    "#                         kernel_size=3, \n",
    "#                         padding='same'),\n",
    "#     keras.layers.LeakyReLU(),\n",
    "#     keras.layers.Dropout(0.25),\n",
    "#     keras.layers.MaxPool2D(pool_size=(2,2)),\n",
    "#     keras.layers.Flatten(),\n",
    "#     keras.layers.Dropout(0.25),\n",
    "#     keras.layers.Dense(256),\n",
    "#     keras.layers.LeakyReLU(),\n",
    "#     keras.layers.Dense(num_classes, activation='softmax'), \n",
    "# ])\n",
    "\n",
    "# model.compile(loss='categorical_crossentropy', optimizer='adam', metrics=['accuracy'])\n",
    "# model.summary()"
   ]
  },
  {
   "cell_type": "markdown",
   "metadata": {},
   "source": [
    "# Build Model"
   ]
  },
  {
   "cell_type": "code",
   "execution_count": null,
   "metadata": {},
   "outputs": [],
   "source": [
    "model = BuildModel(32, 2, 0.25, 'adam')\n",
    "model.summary()"
   ]
  },
  {
   "cell_type": "markdown",
   "metadata": {},
   "source": [
    "# Training Process"
   ]
  },
  {
   "cell_type": "code",
   "execution_count": null,
   "metadata": {},
   "outputs": [],
   "source": [
    "earlystop = keras.callbacks.EarlyStopping(monitor='loss', patience=10, restore_best_weights=True, verbose=1)\n",
    "lr = keras.callbacks.ReduceLROnPlateau(monitor='loss', factor=0.2, patience=5, min_delta=0.0001)\n",
    "callbacks = [earlystop, lr]\n",
    "history = model.fit(train_generator,\n",
    "                    steps_per_epoch = len(train_generator) // batch_size,\n",
    "                    epochs = epochs,\n",
    "                    callbacks = callbacks,\n",
    "                    validation_data = valid_generator,\n",
    "                    validation_steps = len(valid_generator) // batch_size)"
   ]
  },
  {
   "cell_type": "code",
   "execution_count": 3,
   "metadata": {},
   "outputs": [],
   "source": [
    "model = keras.models.load_model('kaggle/best_model.h5')"
   ]
  },
  {
   "cell_type": "code",
   "execution_count": 9,
   "metadata": {},
   "outputs": [
    {
     "name": "stdout",
     "output_type": "stream",
     "text": [
      "313/313 [==============================] - 4s 12ms/step - loss: 0.6928 - acc: 0.7787\n"
     ]
    },
    {
     "data": {
      "text/plain": [
       "[0.6927950978279114, 0.7786999940872192]"
      ]
     },
     "execution_count": 9,
     "metadata": {},
     "output_type": "execute_result"
    }
   ],
   "source": [
    "model.evaluate(X_test, Y_test)"
   ]
  },
  {
   "cell_type": "code",
   "execution_count": null,
   "metadata": {},
   "outputs": [],
   "source": [
    "def plots_learning_curves(history, label, epochs, min_value, max_value):\n",
    "    data = {}\n",
    "    data[label] = history.history[label]\n",
    "    data['val_'+label] = history.history['val_'+label]\n",
    "    pd.DataFrame(data).plot(figsize=(8, 5))\n",
    "    plt.grid(True)\n",
    "    plt.axis([0, epochs, min_value, max_value])\n",
    "    plt.show()\n",
    "plots_learning_curves(history, 'accuracy', epochs, 0, 1)\n",
    "plots_learning_curves(history, 'loss', epochs, 0, 2.5)"
   ]
  },
  {
   "cell_type": "code",
   "execution_count": null,
   "metadata": {},
   "outputs": [],
   "source": [
    "test_datagen = keras.preprocessing.image.ImageDataGenerator(rescale = 1./255)\n",
    "test_generator = test_datagen.flow_from_dataframe(test_df,\n",
    "                                                    directory='./',\n",
    "                                                    x_col='filepath',\n",
    "                                                    y_col='class',\n",
    "                                                    classes=class_names,\n",
    "                                                    target_size = (height, width), \n",
    "                                                    batch_size=batch_size,\n",
    "                                                    seed = 7,\n",
    "                                                    shuffle = False,\n",
    "                                                    class_mode='sparse')\n",
    "\n",
    "test_num = test_generator.samples\n",
    "print(test_num)"
   ]
  },
  {
   "cell_type": "code",
   "execution_count": null,
   "metadata": {},
   "outputs": [],
   "source": [
    "test_predict = model.predict_generator(test_generator,\n",
    "                                       workers = 10,\n",
    "                                       use_multiprocessing = True)"
   ]
  }
 ],
 "metadata": {
  "kernelspec": {
   "display_name": "Python 3",
   "language": "python",
   "name": "python3"
  },
  "language_info": {
   "codemirror_mode": {
    "name": "ipython",
    "version": 3
   },
   "file_extension": ".py",
   "mimetype": "text/x-python",
   "name": "python",
   "nbconvert_exporter": "python",
   "pygments_lexer": "ipython3",
   "version": "3.8.3"
  }
 },
 "nbformat": 4,
 "nbformat_minor": 4
}
